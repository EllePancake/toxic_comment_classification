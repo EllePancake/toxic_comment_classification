{
 "cells": [
  {
   "cell_type": "markdown",
   "metadata": {},
   "source": [
    "# Imports"
   ]
  },
  {
   "cell_type": "code",
   "execution_count": 1,
   "metadata": {},
   "outputs": [],
   "source": [
    "import pandas as pd\n",
    "\n",
    "from sklearn.model_selection import train_test_split\n",
    "from sklearn.preprocessing import MultiLabelBinarizer\n",
    "\n",
    "from transformers import DistilBertTokenizer, DistilBertForSequenceClassification\n",
    "from torch.nn import Sigmoid\n",
    "import torch.nn as nn\n",
    "import torch\n",
    "\n",
    "from transformers import AdamW\n",
    "from torch.utils.data import DataLoader\n",
    "\n",
    "from torch.utils.data import Dataset\n",
    "\n",
    "from tqdm import tqdm\n",
    "\n",
    "from utils import preprocess_text\n",
    "from modeling import evaluate_model, plot_precision_recall_curves, plot_roc_curves, generate_classification_report"
   ]
  },
  {
   "cell_type": "markdown",
   "metadata": {},
   "source": [
    "# Data Preprocessing"
   ]
  },
  {
   "cell_type": "code",
   "execution_count": 2,
   "metadata": {},
   "outputs": [],
   "source": [
    "test_df = pd.read_csv('test.csv')\n",
    "test_labels_df = pd.read_csv('test_labels.csv')\n",
    "train_df = pd.read_csv('train.csv')"
   ]
  },
  {
   "cell_type": "markdown",
   "metadata": {},
   "source": [
    "## 1. Text Preprocessing\n",
    "> Tokenization, Lowercasing, and Removing Special Characters"
   ]
  },
  {
   "cell_type": "code",
   "execution_count": 3,
   "metadata": {},
   "outputs": [
    {
     "data": {
      "text/html": [
       "<div>\n",
       "<style scoped>\n",
       "    .dataframe tbody tr th:only-of-type {\n",
       "        vertical-align: middle;\n",
       "    }\n",
       "\n",
       "    .dataframe tbody tr th {\n",
       "        vertical-align: top;\n",
       "    }\n",
       "\n",
       "    .dataframe thead th {\n",
       "        text-align: right;\n",
       "    }\n",
       "</style>\n",
       "<table border=\"1\" class=\"dataframe\">\n",
       "  <thead>\n",
       "    <tr style=\"text-align: right;\">\n",
       "      <th></th>\n",
       "      <th>comment_text</th>\n",
       "      <th>cleaned_comment_text</th>\n",
       "    </tr>\n",
       "  </thead>\n",
       "  <tbody>\n",
       "    <tr>\n",
       "      <th>0</th>\n",
       "      <td>Explanation\\nWhy the edits made under my usern...</td>\n",
       "      <td>explanation why the edits made under my userna...</td>\n",
       "    </tr>\n",
       "    <tr>\n",
       "      <th>1</th>\n",
       "      <td>D'aww! He matches this background colour I'm s...</td>\n",
       "      <td>daww he matches this background colour im seem...</td>\n",
       "    </tr>\n",
       "    <tr>\n",
       "      <th>2</th>\n",
       "      <td>Hey man, I'm really not trying to edit war. It...</td>\n",
       "      <td>hey man im really not trying to edit war its j...</td>\n",
       "    </tr>\n",
       "    <tr>\n",
       "      <th>3</th>\n",
       "      <td>\"\\nMore\\nI can't make any real suggestions on ...</td>\n",
       "      <td>more i cant make any real suggestions on impro...</td>\n",
       "    </tr>\n",
       "    <tr>\n",
       "      <th>4</th>\n",
       "      <td>You, sir, are my hero. Any chance you remember...</td>\n",
       "      <td>you sir are my hero any chance you remember wh...</td>\n",
       "    </tr>\n",
       "  </tbody>\n",
       "</table>\n",
       "</div>"
      ],
      "text/plain": [
       "                                        comment_text  \\\n",
       "0  Explanation\\nWhy the edits made under my usern...   \n",
       "1  D'aww! He matches this background colour I'm s...   \n",
       "2  Hey man, I'm really not trying to edit war. It...   \n",
       "3  \"\\nMore\\nI can't make any real suggestions on ...   \n",
       "4  You, sir, are my hero. Any chance you remember...   \n",
       "\n",
       "                                cleaned_comment_text  \n",
       "0  explanation why the edits made under my userna...  \n",
       "1  daww he matches this background colour im seem...  \n",
       "2  hey man im really not trying to edit war its j...  \n",
       "3  more i cant make any real suggestions on impro...  \n",
       "4  you sir are my hero any chance you remember wh...  "
      ]
     },
     "execution_count": 3,
     "metadata": {},
     "output_type": "execute_result"
    }
   ],
   "source": [
    "train_df['cleaned_comment_text'] = train_df['comment_text'].apply(preprocess_text)\n",
    "train_df[['comment_text', 'cleaned_comment_text']].head()"
   ]
  },
  {
   "cell_type": "markdown",
   "metadata": {},
   "source": [
    "Here I'm focused on basic text cleaning, converting it all to lowercase, removing special characters removing multiple spaces and leading/trailing whitespaces. "
   ]
  },
  {
   "cell_type": "markdown",
   "metadata": {},
   "source": [
    "## 2. Label Encoding for Multi-Label Classification"
   ]
  },
  {
   "cell_type": "code",
   "execution_count": 4,
   "metadata": {},
   "outputs": [
    {
     "data": {
      "text/html": [
       "<div>\n",
       "<style scoped>\n",
       "    .dataframe tbody tr th:only-of-type {\n",
       "        vertical-align: middle;\n",
       "    }\n",
       "\n",
       "    .dataframe tbody tr th {\n",
       "        vertical-align: top;\n",
       "    }\n",
       "\n",
       "    .dataframe thead th {\n",
       "        text-align: right;\n",
       "    }\n",
       "</style>\n",
       "<table border=\"1\" class=\"dataframe\">\n",
       "  <thead>\n",
       "    <tr style=\"text-align: right;\">\n",
       "      <th></th>\n",
       "      <th>label_set</th>\n",
       "      <th>identity_hate</th>\n",
       "      <th>insult</th>\n",
       "      <th>obscene</th>\n",
       "      <th>severe_toxic</th>\n",
       "      <th>threat</th>\n",
       "      <th>toxic</th>\n",
       "    </tr>\n",
       "  </thead>\n",
       "  <tbody>\n",
       "    <tr>\n",
       "      <th>0</th>\n",
       "      <td>{}</td>\n",
       "      <td>0</td>\n",
       "      <td>0</td>\n",
       "      <td>0</td>\n",
       "      <td>0</td>\n",
       "      <td>0</td>\n",
       "      <td>0</td>\n",
       "    </tr>\n",
       "    <tr>\n",
       "      <th>1</th>\n",
       "      <td>{}</td>\n",
       "      <td>0</td>\n",
       "      <td>0</td>\n",
       "      <td>0</td>\n",
       "      <td>0</td>\n",
       "      <td>0</td>\n",
       "      <td>0</td>\n",
       "    </tr>\n",
       "    <tr>\n",
       "      <th>2</th>\n",
       "      <td>{}</td>\n",
       "      <td>0</td>\n",
       "      <td>0</td>\n",
       "      <td>0</td>\n",
       "      <td>0</td>\n",
       "      <td>0</td>\n",
       "      <td>0</td>\n",
       "    </tr>\n",
       "    <tr>\n",
       "      <th>3</th>\n",
       "      <td>{}</td>\n",
       "      <td>0</td>\n",
       "      <td>0</td>\n",
       "      <td>0</td>\n",
       "      <td>0</td>\n",
       "      <td>0</td>\n",
       "      <td>0</td>\n",
       "    </tr>\n",
       "    <tr>\n",
       "      <th>4</th>\n",
       "      <td>{}</td>\n",
       "      <td>0</td>\n",
       "      <td>0</td>\n",
       "      <td>0</td>\n",
       "      <td>0</td>\n",
       "      <td>0</td>\n",
       "      <td>0</td>\n",
       "    </tr>\n",
       "  </tbody>\n",
       "</table>\n",
       "</div>"
      ],
      "text/plain": [
       "  label_set  identity_hate  insult  obscene  severe_toxic  threat  toxic\n",
       "0        {}              0       0        0             0       0      0\n",
       "1        {}              0       0        0             0       0      0\n",
       "2        {}              0       0        0             0       0      0\n",
       "3        {}              0       0        0             0       0      0\n",
       "4        {}              0       0        0             0       0      0"
      ]
     },
     "execution_count": 4,
     "metadata": {},
     "output_type": "execute_result"
    }
   ],
   "source": [
    "labels = train_df[['toxic', 'severe_toxic', 'obscene', 'threat', 'insult', 'identity_hate']]\n",
    "\n",
    "mlb = MultiLabelBinarizer()\n",
    "\n",
    "train_df['label_set'] = labels.apply(lambda x: set(labels.columns[x == 1]), axis=1)\n",
    "encoded_labels = mlb.fit_transform(train_df['label_set'])\n",
    "\n",
    "encoded_labels_df = pd.DataFrame(encoded_labels, columns=mlb.classes_)\n",
    "\n",
    "train_df = train_df.drop(columns=labels.columns)\n",
    "\n",
    "train_df = pd.concat([train_df, encoded_labels_df], axis=1)\n",
    "\n",
    "train_df[['label_set'] + list(mlb.classes_)].head()"
   ]
  },
  {
   "cell_type": "code",
   "execution_count": 21,
   "metadata": {},
   "outputs": [
    {
     "name": "stdout",
     "output_type": "stream",
     "text": [
      "                  id                                       comment_text  \\\n",
      "6   0002bcb3da6cb337       COCKSUCKER BEFORE YOU PISS AROUND ON MY WORK   \n",
      "12  0005c987bdfc9d4b  Hey... what is it..\\n@ | talk .\\nWhat is it......   \n",
      "16  0007e25b2121310b  Bye! \\n\\nDon't look, come or think of comming ...   \n",
      "42  001810bf8c45bf5f  You are gay or antisemmitian? \\n\\nArchangel WH...   \n",
      "43  00190820581d90ce           FUCK YOUR FILTHY MOTHER IN THE ASS, DRY!   \n",
      "\n",
      "                                 cleaned_comment_text  \\\n",
      "6        cocksucker before you piss around on my work   \n",
      "12  hey what is it talk what is it an exclusive gr...   \n",
      "16  bye dont look come or think of comming back to...   \n",
      "42  you are gay or antisemmitian archangel white t...   \n",
      "43             fuck your filthy mother in the ass dry   \n",
      "\n",
      "                                  label_set  identity_hate  insult  obscene  \\\n",
      "6    {obscene, toxic, severe_toxic, insult}              0       1        1   \n",
      "12                                  {toxic}              0       0        0   \n",
      "16                                  {toxic}              0       0        0   \n",
      "42  {obscene, toxic, insult, identity_hate}              1       1        1   \n",
      "43                 {obscene, toxic, insult}              0       1        1   \n",
      "\n",
      "    severe_toxic  threat  toxic  \n",
      "6              1       0      1  \n",
      "12             0       0      1  \n",
      "16             0       0      1  \n",
      "42             0       0      1  \n",
      "43             0       0      1  \n"
     ]
    }
   ],
   "source": [
    "print(train_df[train_df[list(mlb.classes_)].sum(axis=1) > 0].head())"
   ]
  },
  {
   "cell_type": "markdown",
   "metadata": {},
   "source": [
    "MultiLabelBinarizer is used to one-hot encode the labels for multi-label classification. It transforms each set of labels into a binary matrix where each row corresponds to a sample, and each column corresponds to a label. I first create a set of labels for each row and then apply MultiLabelBinarizer to get a binary matrix."
   ]
  },
  {
   "cell_type": "markdown",
   "metadata": {},
   "source": [
    "## 3. Train/Validation/Test Split"
   ]
  },
  {
   "cell_type": "code",
   "execution_count": 5,
   "metadata": {},
   "outputs": [],
   "source": [
    "filtered_test_labels_df = test_labels_df[~(test_labels_df.iloc[:, 1:] == -1).all(axis=1)]\n",
    "\n",
    "filtered_test_df = test_df[test_df['id'].isin(filtered_test_labels_df['id'])]"
   ]
  },
  {
   "cell_type": "code",
   "execution_count": 6,
   "metadata": {},
   "outputs": [],
   "source": [
    "X = train_df.drop(columns=['identity_hate', 'insult', 'obscene', 'severe_toxic', 'threat', 'toxic'])\n",
    "\n",
    "y = train_df[['identity_hate', 'insult', 'obscene', 'severe_toxic', 'threat', 'toxic']]\n",
    "\n",
    "stratify_col = y.sum(axis=1) > 0  \n",
    "\n",
    "X_train, X_val, y_train, y_val = train_test_split(\n",
    "    X, \n",
    "    y, \n",
    "    test_size=0.2, \n",
    "    stratify=stratify_col, \n",
    "    random_state=42\n",
    ")"
   ]
  },
  {
   "cell_type": "markdown",
   "metadata": {},
   "source": [
    "I'm creating a stratified column by summing the labels per row to indicate whether any toxic label is present to ensure the present of toxicity is evenly distributed between training and validation sets."
   ]
  },
  {
   "cell_type": "code",
   "execution_count": 7,
   "metadata": {},
   "outputs": [
    {
     "name": "stdout",
     "output_type": "stream",
     "text": [
      "Training set size: 127656\n",
      "Validation set size: 31915\n",
      "Test set size: 63978\n"
     ]
    }
   ],
   "source": [
    "print(f\"Training set size: {len(X_train)}\")\n",
    "print(f\"Validation set size: {len(X_val)}\")\n",
    "print(f\"Test set size: {len(filtered_test_df)}\")"
   ]
  },
  {
   "cell_type": "code",
   "execution_count": null,
   "metadata": {},
   "outputs": [],
   "source": [
    "val_df = X_val.join(y_val)\n",
    "\n",
    "val_dataset = ToxicCommentsDataset(val_df, tokenizer, max_len=128)"
   ]
  },
  {
   "cell_type": "code",
   "execution_count": null,
   "metadata": {},
   "outputs": [],
   "source": [
    "filtered_test_df['cleaned_comment_text'] = filtered_test_df['comment_text'].apply(preprocess_text)\n",
    "\n",
    "filtered_test_df[['comment_text', 'cleaned_comment_text']].head()"
   ]
  },
  {
   "cell_type": "code",
   "execution_count": null,
   "metadata": {},
   "outputs": [],
   "source": [
    "merged_test_df = pd.merge(filtered_test_df, test_labels_df, on='id')\n",
    "\n",
    "test_dataset = ToxicCommentsDataset(merged_test_df, tokenizer, max_len=128)"
   ]
  },
  {
   "cell_type": "markdown",
   "metadata": {},
   "source": [
    "# Model Development"
   ]
  },
  {
   "cell_type": "markdown",
   "metadata": {},
   "source": [
    "> Model Selection\n",
    "\n",
    "For this task, I chose the **DistilBERT** model, which is a smaller, faster, and lighter version of BERT. It retains most of BERT's accuracy while being more efficient, making it a good choice for practical deployment in multi-label classification tasks."
   ]
  },
  {
   "cell_type": "markdown",
   "metadata": {},
   "source": [
    "## Model Architecture"
   ]
  },
  {
   "cell_type": "code",
   "execution_count": 8,
   "metadata": {},
   "outputs": [
    {
     "name": "stderr",
     "output_type": "stream",
     "text": [
      "Some weights of DistilBertForSequenceClassification were not initialized from the model checkpoint at distilbert-base-uncased and are newly initialized: ['classifier.bias', 'classifier.weight', 'pre_classifier.bias', 'pre_classifier.weight']\n",
      "You should probably TRAIN this model on a down-stream task to be able to use it for predictions and inference.\n"
     ]
    },
    {
     "name": "stdout",
     "output_type": "stream",
     "text": [
      "MultiLabelDistilBERT(\n",
      "  (base_model): DistilBertForSequenceClassification(\n",
      "    (distilbert): DistilBertModel(\n",
      "      (embeddings): Embeddings(\n",
      "        (word_embeddings): Embedding(30522, 768, padding_idx=0)\n",
      "        (position_embeddings): Embedding(512, 768)\n",
      "        (LayerNorm): LayerNorm((768,), eps=1e-12, elementwise_affine=True)\n",
      "        (dropout): Dropout(p=0.1, inplace=False)\n",
      "      )\n",
      "      (transformer): Transformer(\n",
      "        (layer): ModuleList(\n",
      "          (0-5): 6 x TransformerBlock(\n",
      "            (attention): MultiHeadSelfAttention(\n",
      "              (dropout): Dropout(p=0.1, inplace=False)\n",
      "              (q_lin): Linear(in_features=768, out_features=768, bias=True)\n",
      "              (k_lin): Linear(in_features=768, out_features=768, bias=True)\n",
      "              (v_lin): Linear(in_features=768, out_features=768, bias=True)\n",
      "              (out_lin): Linear(in_features=768, out_features=768, bias=True)\n",
      "            )\n",
      "            (sa_layer_norm): LayerNorm((768,), eps=1e-12, elementwise_affine=True)\n",
      "            (ffn): FFN(\n",
      "              (dropout): Dropout(p=0.1, inplace=False)\n",
      "              (lin1): Linear(in_features=768, out_features=3072, bias=True)\n",
      "              (lin2): Linear(in_features=3072, out_features=768, bias=True)\n",
      "              (activation): GELUActivation()\n",
      "            )\n",
      "            (output_layer_norm): LayerNorm((768,), eps=1e-12, elementwise_affine=True)\n",
      "          )\n",
      "        )\n",
      "      )\n",
      "    )\n",
      "    (pre_classifier): Linear(in_features=768, out_features=768, bias=True)\n",
      "    (classifier): Linear(in_features=768, out_features=6, bias=True)\n",
      "    (dropout): Dropout(p=0.2, inplace=False)\n",
      "  )\n",
      "  (sigmoid): Sigmoid()\n",
      ")\n"
     ]
    }
   ],
   "source": [
    "tokenizer = DistilBertTokenizer.from_pretrained('distilbert-base-uncased')\n",
    "\n",
    "model = DistilBertForSequenceClassification.from_pretrained(\n",
    "    'distilbert-base-uncased',\n",
    "    problem_type=\"multi_label_classification\", \n",
    "    num_labels=6)\n",
    "\n",
    "class MultiLabelDistilBERT(nn.Module):\n",
    "    def __init__(self, base_model):\n",
    "        super(MultiLabelDistilBERT, self).__init__()\n",
    "        self.base_model = base_model\n",
    "        self.sigmoid = Sigmoid()\n",
    "\n",
    "    def forward(self, input_ids, attention_mask=None):\n",
    "        outputs = self.base_model(input_ids=input_ids, attention_mask=attention_mask)\n",
    "        logits = outputs.logits\n",
    "        probs = self.sigmoid(logits)\n",
    "        return probs\n",
    "    \n",
    "model = MultiLabelDistilBERT(model)\n",
    "\n",
    "print(model)"
   ]
  },
  {
   "cell_type": "markdown",
   "metadata": {},
   "source": [
    "**Explanation:**\n",
    "- **Input Representation (Tokenization):** I use the `DistilBertTokenizer` to tokenize the input text. The tokenizer converts the raw text into token IDs that the model can process.\n",
    "- **Model Architecture:** Then use `DistilBertForSequenceClassification` as the base model, setting `num_labels=6` to match the number of toxicity classes. Then modify the model to include a `Sigmoid` activation function at the output layer, which is necessary for multi-label classification since each label has its independent probability.\n",
    "- **Sigmoid Activation:** The `Sigmoid` function is applied to each logit to output a probability score between 0 and 1 for each class."
   ]
  },
  {
   "cell_type": "markdown",
   "metadata": {},
   "source": [
    "Model Layers:\n",
    "1. **MultiLabelDistilBERT**: This is my custom model class, wrapping around the base DistilBERT model and adding a Sigmoid activation function to the output.\n",
    "2. **DistilBertForSequenceClassification**: This is the pre-trained DistilBERT model configured for sequence classification.\n",
    "   - **DistilBertModel**: The main DistilBERT architecture.\n",
    "   - **Linear**: The classification layer(s) added on top of DistilBERT, which reduce the dimensionality from the final transformer output to the number of labels (6 in my case).\n",
    "   - **Dropout**: A regularization technique to prevent overfitting.\n",
    "   - **Sigmoid**: Applies a Sigmoid activation to each output node to generate probabilities for multi-label classification.\n",
    "\n",
    "Parameters:\n",
    "- **Total params**: 66,958,086 - The total number of parameters in my model. \n",
    "- **Trainable params**: 66,958,086 - All parameters in this model are trainable, indicating that no layers were frozen.\n",
    "- **Non-trainable params**: 0 - There are no non-trainable parameters in this model.\n",
    "\n",
    "Memory and Computational Cost:\n",
    "- **Input size**: 0.07 MB - This is the memory footprint of the input data.\n",
    "- **Forward/backward pass size**: 3425.80 MB - This is the amount of memory required to store activations during the forward and backward pass.\n",
    "- **Params size**: 267.83 MB - This is the memory required to store the model's parameters.\n",
    "- **Estimated Total Size**: 3693.69 MB - The total estimated memory footprint when training this model.\n",
    "\n",
    "Analysis:\n",
    "- The model is quite large, with over 66 million parameters. This is typical for transformer models like DistilBERT.\n",
    "- The memory requirements are significant, indicating that training this model will require a GPU with enough memory (I have 3 terrabytes of space and 16 cores, so I should be fine)."
   ]
  },
  {
   "cell_type": "markdown",
   "metadata": {},
   "source": [
    "## Loss Function"
   ]
  },
  {
   "cell_type": "code",
   "execution_count": 38,
   "metadata": {},
   "outputs": [
    {
     "name": "stdout",
     "output_type": "stream",
     "text": [
      "Calculated loss: 0.6948745250701904\n"
     ]
    }
   ],
   "source": [
    "criterion = nn.BCELoss()\n",
    "\n",
    "input_ids = torch.tensor([tokenizer.encode(\"You, sir, are my hero. Any chance you remember what page that's on?\", add_special_tokens=True)])\n",
    "attention_mask = torch.tensor([[1] * len(input_ids[0])])\n",
    "\n",
    "outputs = model(input_ids, attention_mask=attention_mask)\n",
    "\n",
    "logits = outputs  \n",
    "\n",
    "true_labels = torch.tensor([[0, 1, 0, 0, 0, 0]], dtype=torch.float)\n",
    "\n",
    "loss = criterion(logits, true_labels)\n",
    "print(f\"Calculated loss: {loss.item()}\")"
   ]
  },
  {
   "cell_type": "markdown",
   "metadata": {},
   "source": [
    "## Training Process"
   ]
  },
  {
   "cell_type": "code",
   "execution_count": 43,
   "metadata": {},
   "outputs": [],
   "source": [
    "class ToxicCommentsDataset(Dataset):\n",
    "    def __init__(self, dataframe, tokenizer, max_len):\n",
    "        self.tokenizer = tokenizer\n",
    "        self.data = dataframe\n",
    "        self.comment_text = dataframe['cleaned_comment_text']  \n",
    "        self.labels = dataframe[['toxic', 'severe_toxic', 'obscene', 'threat', 'insult', 'identity_hate']].values\n",
    "        self.max_len = max_len\n",
    "\n",
    "    def __len__(self):\n",
    "        return len(self.comment_text)\n",
    "\n",
    "    def __getitem__(self, index):\n",
    "        comment = str(self.comment_text.iloc[index])  \n",
    "        inputs = self.tokenizer(\n",
    "            comment,\n",
    "            max_length=self.max_len,\n",
    "            padding='max_length',\n",
    "            truncation=True,\n",
    "            return_tensors=\"pt\"\n",
    "        )\n",
    "        input_ids = inputs['input_ids'].squeeze(0)\n",
    "        attention_mask = inputs['attention_mask'].squeeze(0)\n",
    "\n",
    "        return {\n",
    "            'input_ids': input_ids,\n",
    "            'attention_mask': attention_mask,\n",
    "            'labels': torch.tensor(self.labels[index], dtype=torch.float)\n",
    "        }"
   ]
  },
  {
   "cell_type": "code",
   "execution_count": 48,
   "metadata": {},
   "outputs": [],
   "source": [
    "train_dataset = ToxicCommentsDataset(train_df, tokenizer, max_len=128)\n",
    "\n",
    "train_loader = DataLoader(train_dataset, batch_size=16, shuffle=True)"
   ]
  },
  {
   "cell_type": "code",
   "execution_count": 10,
   "metadata": {},
   "outputs": [
    {
     "data": {
      "text/plain": [
       "MultiLabelDistilBERT(\n",
       "  (base_model): DistilBertForSequenceClassification(\n",
       "    (distilbert): DistilBertModel(\n",
       "      (embeddings): Embeddings(\n",
       "        (word_embeddings): Embedding(30522, 768, padding_idx=0)\n",
       "        (position_embeddings): Embedding(512, 768)\n",
       "        (LayerNorm): LayerNorm((768,), eps=1e-12, elementwise_affine=True)\n",
       "        (dropout): Dropout(p=0.1, inplace=False)\n",
       "      )\n",
       "      (transformer): Transformer(\n",
       "        (layer): ModuleList(\n",
       "          (0-5): 6 x TransformerBlock(\n",
       "            (attention): MultiHeadSelfAttention(\n",
       "              (dropout): Dropout(p=0.1, inplace=False)\n",
       "              (q_lin): Linear(in_features=768, out_features=768, bias=True)\n",
       "              (k_lin): Linear(in_features=768, out_features=768, bias=True)\n",
       "              (v_lin): Linear(in_features=768, out_features=768, bias=True)\n",
       "              (out_lin): Linear(in_features=768, out_features=768, bias=True)\n",
       "            )\n",
       "            (sa_layer_norm): LayerNorm((768,), eps=1e-12, elementwise_affine=True)\n",
       "            (ffn): FFN(\n",
       "              (dropout): Dropout(p=0.1, inplace=False)\n",
       "              (lin1): Linear(in_features=768, out_features=3072, bias=True)\n",
       "              (lin2): Linear(in_features=3072, out_features=768, bias=True)\n",
       "              (activation): GELUActivation()\n",
       "            )\n",
       "            (output_layer_norm): LayerNorm((768,), eps=1e-12, elementwise_affine=True)\n",
       "          )\n",
       "        )\n",
       "      )\n",
       "    )\n",
       "    (pre_classifier): Linear(in_features=768, out_features=768, bias=True)\n",
       "    (classifier): Linear(in_features=768, out_features=6, bias=True)\n",
       "    (dropout): Dropout(p=0.2, inplace=False)\n",
       "  )\n",
       "  (sigmoid): Sigmoid()\n",
       ")"
      ]
     },
     "execution_count": 10,
     "metadata": {},
     "output_type": "execute_result"
    }
   ],
   "source": [
    "device = torch.device('cuda' if torch.cuda.is_available() else 'cpu')\n",
    "\n",
    "model.to(device)"
   ]
  },
  {
   "cell_type": "code",
   "execution_count": 52,
   "metadata": {},
   "outputs": [
    {
     "name": "stderr",
     "output_type": "stream",
     "text": [
      "Training Epoch 1/3: 100%|██████████| 9974/9974 [2:29:07<00:00,  1.11it/s]  \n"
     ]
    },
    {
     "name": "stdout",
     "output_type": "stream",
     "text": [
      "Epoch 1/3, Average Loss: 0.0474\n"
     ]
    },
    {
     "name": "stderr",
     "output_type": "stream",
     "text": [
      "Training Epoch 2/3: 100%|██████████| 9974/9974 [2:31:07<00:00,  1.10it/s]  \n"
     ]
    },
    {
     "name": "stdout",
     "output_type": "stream",
     "text": [
      "Epoch 2/3, Average Loss: 0.0344\n"
     ]
    },
    {
     "name": "stderr",
     "output_type": "stream",
     "text": [
      "Training Epoch 3/3: 100%|██████████| 9974/9974 [2:25:51<00:00,  1.14it/s]  "
     ]
    },
    {
     "name": "stdout",
     "output_type": "stream",
     "text": [
      "Epoch 3/3, Average Loss: 0.0273\n",
      "Training complete!\n"
     ]
    },
    {
     "name": "stderr",
     "output_type": "stream",
     "text": [
      "\n"
     ]
    }
   ],
   "source": [
    "criterion = torch.nn.BCELoss()\n",
    "\n",
    "num_epochs = 3\n",
    "\n",
    "model.train()\n",
    "\n",
    "for epoch in range(num_epochs):\n",
    "    total_loss = 0.0\n",
    "    model.train() \n",
    "    \n",
    "    for batch in tqdm(train_loader, desc=f\"Training Epoch {epoch+1}/{num_epochs}\"):\n",
    "        input_ids = batch['input_ids'].to(device)\n",
    "        attention_mask = batch['attention_mask'].to(device)\n",
    "        labels = batch['labels'].float().to(device)\n",
    "\n",
    "        optimizer.zero_grad()\n",
    "\n",
    "        outputs = model(input_ids, attention_mask=attention_mask)\n",
    "\n",
    "        loss = criterion(outputs, labels)\n",
    "\n",
    "        loss.backward()\n",
    "        optimizer.step()\n",
    "\n",
    "        total_loss += loss.item()\n",
    "\n",
    "    avg_loss = total_loss / len(train_loader)\n",
    "    print(f\"Epoch {epoch+1}/{num_epochs}, Average Loss: {avg_loss:.4f}\")\n",
    "\n",
    "print(\"Training complete!\")"
   ]
  },
  {
   "cell_type": "markdown",
   "metadata": {},
   "source": [
    "# Model Evaluation"
   ]
  },
  {
   "cell_type": "markdown",
   "metadata": {},
   "source": [
    "## **1. Evaluation Metrics**\n",
    "\n",
    "For multi-label classification, these are the metrics I'm utilizing:\n",
    "- **Accuracy:** Not typically used in multi-label settings as it doesn't handle the multi-label nature well.\n",
    "- **Precision, Recall, F1-Score:** These are calculated for each class and are more informative in a multi-label setting.\n",
    "- **AUC-ROC:** Area Under the Curve - Receiver Operating Characteristic, used to evaluate the performance of each label in distinguishing between positive and negative classes."
   ]
  },
  {
   "cell_type": "markdown",
   "metadata": {},
   "source": [
    "## **2. Validation Results**"
   ]
  },
  {
   "cell_type": "code",
   "execution_count": 58,
   "metadata": {},
   "outputs": [
    {
     "name": "stdout",
     "output_type": "stream",
     "text": [
      "Validation Precision: 0.8859\n",
      "Validation Recall: 0.9142\n",
      "Validation F1-Score: 0.8991\n",
      "Validation ROC-AUC: 0.9536\n"
     ]
    }
   ],
   "source": [
    "val_loader = DataLoader(val_dataset, batch_size=16, shuffle=False)\n",
    "\n",
    "precision, recall, f1, roc_auc = evaluate_model(model, val_loader, threshold=0.5)\n",
    "\n",
    "print(f\"Validation Precision: {precision:.4f}\")\n",
    "print(f\"Validation Recall: {recall:.4f}\")\n",
    "print(f\"Validation F1-Score: {f1:.4f}\")\n",
    "print(f\"Validation ROC-AUC: {roc_auc:.4f}\")"
   ]
  },
  {
   "cell_type": "markdown",
   "metadata": {},
   "source": [
    "## **3. Thresholding**\n",
    "\n",
    "Used to convert the probability outputs from the sigmoid function into binary decisions. "
   ]
  },
  {
   "cell_type": "code",
   "execution_count": 59,
   "metadata": {},
   "outputs": [
    {
     "name": "stdout",
     "output_type": "stream",
     "text": [
      "Evaluating with threshold = 0.3\n",
      "Threshold: 0.3\n",
      "Validation Precision: 0.8070\n",
      "Validation Recall: 0.9670\n",
      "Validation F1-Score: 0.8780\n",
      "Validation ROC-AUC: 0.9768\n",
      "--------------------------------------------------\n",
      "Evaluating with threshold = 0.5\n",
      "Threshold: 0.5\n",
      "Validation Precision: 0.8859\n",
      "Validation Recall: 0.9142\n",
      "Validation F1-Score: 0.8991\n",
      "Validation ROC-AUC: 0.9536\n",
      "--------------------------------------------------\n",
      "Evaluating with threshold = 0.7\n",
      "Threshold: 0.7\n",
      "Validation Precision: 0.9402\n",
      "Validation Recall: 0.8036\n",
      "Validation F1-Score: 0.8553\n",
      "Validation ROC-AUC: 0.9003\n",
      "--------------------------------------------------\n"
     ]
    }
   ],
   "source": [
    "for threshold in [0.3, 0.5, 0.7]:\n",
    "    print(f\"Evaluating with threshold = {threshold}\")\n",
    "    precision, recall, f1, roc_auc = evaluate_model(model, val_loader, threshold=threshold)\n",
    "    \n",
    "    print(f\"Threshold: {threshold}\")\n",
    "    print(f\"Validation Precision: {precision:.4f}\")\n",
    "    print(f\"Validation Recall: {recall:.4f}\")\n",
    "    print(f\"Validation F1-Score: {f1:.4f}\")\n",
    "    print(f\"Validation ROC-AUC: {roc_auc:.4f}\")\n",
    "    print(\"-\" * 50)"
   ]
  },
  {
   "cell_type": "markdown",
   "metadata": {},
   "source": [
    "## **4. Test Set Performance**\n",
    "\n",
    "Evaluate the model on the test set using the same metrics."
   ]
  },
  {
   "cell_type": "code",
   "execution_count": 69,
   "metadata": {},
   "outputs": [],
   "source": [
    "test_dataset = ToxicCommentsDataset(merged_test_df, tokenizer, max_len=128)\n",
    "\n",
    "test_loader = DataLoader(test_dataset, batch_size=16, shuffle=False)"
   ]
  },
  {
   "cell_type": "code",
   "execution_count": 70,
   "metadata": {},
   "outputs": [
    {
     "name": "stdout",
     "output_type": "stream",
     "text": [
      "Test Precision: 0.5884\n",
      "Test Recall: 0.8031\n",
      "Test F1-Score: 0.6735\n",
      "Test ROC-AUC: 0.8781\n"
     ]
    }
   ],
   "source": [
    "precision, recall, f1, roc_auc = evaluate_model(model, test_loader, threshold=0.5)\n",
    "\n",
    "print(f\"Test Precision: {precision:.4f}\")\n",
    "print(f\"Test Recall: {recall:.4f}\")\n",
    "print(f\"Test F1-Score: {f1:.4f}\")\n",
    "print(f\"Test ROC-AUC: {roc_auc:.4f}\")"
   ]
  },
  {
   "cell_type": "code",
   "execution_count": 71,
   "metadata": {},
   "outputs": [
    {
     "name": "stdout",
     "output_type": "stream",
     "text": [
      "Evaluating with threshold = 0.3\n",
      "Threshold: 0.3\n",
      "Validation Precision: 0.5067\n",
      "Validation Recall: 0.8763\n",
      "Validation F1-Score: 0.6398\n",
      "Validation ROC-AUC: 0.9054\n",
      "--------------------------------------------------\n",
      "Evaluating with threshold = 0.5\n",
      "Threshold: 0.5\n",
      "Validation Precision: 0.5884\n",
      "Validation Recall: 0.8031\n",
      "Validation F1-Score: 0.6735\n",
      "Validation ROC-AUC: 0.8781\n",
      "--------------------------------------------------\n",
      "Evaluating with threshold = 0.7\n",
      "Threshold: 0.7\n",
      "Validation Precision: 0.6814\n",
      "Validation Recall: 0.7053\n",
      "Validation F1-Score: 0.6778\n",
      "Validation ROC-AUC: 0.8374\n",
      "--------------------------------------------------\n"
     ]
    }
   ],
   "source": [
    "for threshold in [0.3, 0.5, 0.7]:\n",
    "    print(f\"Evaluating with threshold = {threshold}\")\n",
    "    precision, recall, f1, roc_auc = evaluate_model(model, test_loader, threshold=threshold)\n",
    "    \n",
    "    print(f\"Threshold: {threshold}\")\n",
    "    print(f\"Validation Precision: {precision:.4f}\")\n",
    "    print(f\"Validation Recall: {recall:.4f}\")\n",
    "    print(f\"Validation F1-Score: {f1:.4f}\")\n",
    "    print(f\"Validation ROC-AUC: {roc_auc:.4f}\")\n",
    "    print(\"-\" * 50)"
   ]
  },
  {
   "cell_type": "markdown",
   "metadata": {},
   "source": [
    "Test Set Results \n",
    "\n",
    "**Precision vs. Recall Trade-off:**\n",
    "   - **Threshold 0.3:** The model has a high recall (0.9670) but relatively lower precision (0.8070). This means the model is catching most of the positive cases but also has a higher rate of false positives.\n",
    "   - **Threshold 0.5:** There's a good balance between precision (0.8859) and recall (0.9142), which results in a strong F1-Score (0.8991). This threshold seems to offer a balanced trade-off between catching most positive cases and keeping false positives at a reasonable level.\n",
    "   - **Threshold 0.7:** Precision is the highest (0.9402), but recall drops (0.8036). This indicates that the model is more confident in its positive predictions but is missing more of the actual positive cases (higher false negatives).\n",
    "\n",
    "**F1-Score:**\n",
    "   - The F1-Score, which is the harmonic mean of precision and recall, is highest at a threshold of 0.5. This suggests that 0.5 might be the optimal threshold for a balance between precision and recall.\n",
    "\n",
    "**ROC-AUC:**\n",
    "   - The ROC-AUC scores are all relatively high across the different thresholds, with the highest being at the threshold of 0.3 (0.9768). However, this metric alone doesn't dictate the threshold choice since it doesn't directly reflect the trade-offs between precision and recall."
   ]
  },
  {
   "cell_type": "markdown",
   "metadata": {},
   "source": [
    "## 5. Confusion Matrix and Classification Report"
   ]
  },
  {
   "cell_type": "code",
   "execution_count": 72,
   "metadata": {},
   "outputs": [
    {
     "name": "stdout",
     "output_type": "stream",
     "text": [
      "               precision    recall  f1-score   support\n",
      "\n",
      "        toxic       0.93      0.96      0.94      3046\n",
      " severe_toxic       0.67      0.51      0.58       305\n",
      "      obscene       0.89      0.93      0.91      1662\n",
      "       threat       0.84      0.82      0.83        98\n",
      "       insult       0.86      0.92      0.89      1576\n",
      "identity_hate       0.82      0.77      0.79       259\n",
      "\n",
      "    micro avg       0.89      0.91      0.90      6946\n",
      "    macro avg       0.83      0.82      0.82      6946\n",
      " weighted avg       0.89      0.91      0.90      6946\n",
      "  samples avg       0.09      0.09      0.09      6946\n",
      "\n",
      "Confusion Matrices:\n",
      "[[[28632   237]\n",
      "  [  123  2923]]\n",
      "\n",
      " [[31532    78]\n",
      "  [  150   155]]\n",
      "\n",
      " [[30069   184]\n",
      "  [  117  1545]]\n",
      "\n",
      " [[31802    15]\n",
      "  [   18    80]]\n",
      "\n",
      " [[30102   237]\n",
      "  [  128  1448]]\n",
      "\n",
      " [[31611    45]\n",
      "  [   60   199]]]\n"
     ]
    }
   ],
   "source": [
    "class_names = ['toxic', 'severe_toxic', 'obscene', 'threat', 'insult', 'identity_hate']\n",
    "generate_classification_report(model, val_loader, class_names, threshold=0.5)"
   ]
  },
  {
   "cell_type": "code",
   "execution_count": 73,
   "metadata": {},
   "outputs": [
    {
     "name": "stdout",
     "output_type": "stream",
     "text": [
      "               precision    recall  f1-score   support\n",
      "\n",
      "        toxic       0.54      0.89      0.67      6090\n",
      " severe_toxic       0.32      0.39      0.35       367\n",
      "      obscene       0.62      0.80      0.70      3691\n",
      "       threat       0.54      0.64      0.59       211\n",
      "       insult       0.66      0.74      0.70      3427\n",
      "identity_hate       0.64      0.60      0.62       712\n",
      "\n",
      "    micro avg       0.58      0.80      0.67     14498\n",
      "    macro avg       0.55      0.68      0.60     14498\n",
      " weighted avg       0.59      0.80      0.67     14498\n",
      "  samples avg       0.08      0.08      0.07     14498\n",
      "\n",
      "Confusion Matrices:\n",
      "[[[53200  4688]\n",
      "  [  648  5442]]\n",
      "\n",
      " [[63307   304]\n",
      "  [  225   142]]\n",
      "\n",
      " [[58486  1801]\n",
      "  [  723  2968]]\n",
      "\n",
      " [[63655   112]\n",
      "  [   77   134]]\n",
      "\n",
      " [[59269  1282]\n",
      "  [  899  2528]]\n",
      "\n",
      " [[63025   241]\n",
      "  [  283   429]]]\n"
     ]
    }
   ],
   "source": [
    "class_names = ['toxic', 'severe_toxic', 'obscene', 'threat', 'insult', 'identity_hate']\n",
    "generate_classification_report(model, test_loader, class_names, threshold=0.5)"
   ]
  },
  {
   "cell_type": "markdown",
   "metadata": {},
   "source": [
    "## Evaluation Notes\n",
    "\n",
    "**Validation Set:**\n",
    "\n",
    "- **Overall Performance:**\n",
    "  - **Micro Average (F1-score = 0.90):** Indicates a strong overall performance, especially when considering that this is a multi-label classification problem.\n",
    "  - **Macro Average (F1-score = 0.82):** Suggests that the model performs reasonably well across all classes, though some classes perform better than others.\n",
    "\n",
    "- **Class-Specific Performance:**\n",
    "  - **Toxic (F1-score = 0.94):** The model performs exceptionally well on detecting \"toxic\" comments, with both high precision and recall.\n",
    "  - **Severe Toxic (F1-score = 0.58):** This class is more challenging for the model, as indicated by the lower F1-score. Precision is moderate, but recall is relatively lower, meaning the model misses more severe toxic cases.\n",
    "  - **Obscene (F1-score = 0.91):** The model does well here, with high precision and recall.\n",
    "  - **Threat (F1-score = 0.83):** Performance is decent but not as strong as for the \"toxic\" or \"obscene\" classes.\n",
    "  - **Insult (F1-score = 0.89):** Similar to \"toxic\" and \"obscene,\" the model performs well.\n",
    "  - **Identity Hate (F1-score = 0.79):** Performance is lower compared to \"toxic\" and \"obscene,\" but still reasonably good.\n",
    "\n",
    "**Test Set:**\n",
    "\n",
    "- **Overall Performance:**\n",
    "  - **Micro Average (F1-score = 0.67):** The overall performance drops when compared to the validation set, indicating the model may not generalize as well to unseen data.\n",
    "  - **Macro Average (F1-score = 0.60):** This further suggests that some classes are particularly challenging for the model on the test set.\n",
    "\n",
    "- **Class-Specific Performance:**\n",
    "  - **Toxic (F1-score = 0.67):** Performance on the \"toxic\" class drops significantly compared to the validation set, especially in precision (0.54), indicating more false positives.\n",
    "  - **Severe Toxic (F1-score = 0.35):** The model struggles even more with the \"severe toxic\" class on the test set, with low precision and recall.\n",
    "  - **Obscene (F1-score = 0.70):** Although still performing reasonably, the F1-score drops compared to the validation set.\n",
    "  - **Threat (F1-score = 0.59):** There is a noticeable drop in performance for the \"threat\" class as well.\n",
    "  - **Insult (F1-score = 0.70):** Performance is fairly consistent, though lower than in validation.\n",
    "  - **Identity Hate (F1-score = 0.62):** Performance is similar to the validation set, though slightly lower.\n",
    "\n",
    "- **Confusion Matrices:**\n",
    "  - These matrices show more issues with distinguishing between positive and negative instances on the test set, particularly with higher false positives.\n",
    "\n",
    "**Observations:**\n",
    "\n",
    "1. Overfitting or Distribution Shift - The model's performance is significantly better on the validation set than on the test set, especially in the \"toxic\" and \"severe toxic\" classes. This could indicate some degree of overfitting to the validation data or a difference in the distribution between the validation and test sets.\n",
    "\n",
    "2. Class Imbalance - The model struggles more with the \"severe toxic\" and \"threat\" classes, which are less represented in the data and thus more challenging for the model to learn.\n",
    "\n",
    "3. Generalization - The drop in performance from validation to test suggests that the model will need further tuning."
   ]
  },
  {
   "cell_type": "markdown",
   "metadata": {},
   "source": [
    "# Visualization of Model Performance"
   ]
  },
  {
   "cell_type": "markdown",
   "metadata": {},
   "source": [
    "## 1. Precision-Recall Curves:\n",
    "\n",
    "Precision-Recall curves give insights into the trade-offs between precision and recall for each class."
   ]
  },
  {
   "cell_type": "code",
   "execution_count": 75,
   "metadata": {},
   "outputs": [
    {
     "data": {
      "image/png": "[encoded data removed]",
      "text/plain": [
       "<Figure size 1500x1000 with 1 Axes>"
      ]
     },
     "metadata": {},
     "output_type": "display_data"
    }
   ],
   "source": [
    "class_names = ['toxic', 'severe_toxic', 'obscene', 'threat', 'insult', 'identity_hate']\n",
    "plot_precision_recall_curves(model, val_loader, class_names, threshold=0.5)"
   ]
  },
  {
   "cell_type": "markdown",
   "metadata": {},
   "source": [
    "Analysis:\n",
    "\n",
    "1. **Toxic (Blue Curve)**:\n",
    "   - The precision-recall curve for the `toxic` class is quite strong. It stays close to the top left, indicating good precision and recall for this class. The model can maintain high precision even with very high recall, which suggests that it's performing well on this label.\n",
    "\n",
    "2. **Severe Toxic (Orange Curve)**:\n",
    "   - The `severe_toxic` class has a noticeable drop in both precision and recall as recall increases. This suggests that the model struggles more with distinguishing examples of this class. It's common for minority classes to have poorer performance in imbalanced datasets, which might be the case here.\n",
    "\n",
    "3. **Obscene (Green Curve)**:\n",
    "   - The `obscene` class performs well with a smooth curve and stays closer to the top-right. This indicates that the model is performing with high precision and recall, meaning it can effectively identify obscene content.\n",
    "\n",
    "4. **Threat (Red Curve)**:\n",
    "   - The curve for the `threat` class performs moderately well but starts to drop off earlier than other classes. It shows that the model may be able to classify threats at a moderate recall level but struggles when trying to capture all possible examples of threats.\n",
    "\n",
    "5. **Insult (Purple Curve)**:\n",
    "   - The precision-recall curve for `insult` is relatively good, but it slightly drops off as recall increases, indicating a bit more struggle when it tries to capture a higher number of insults while keeping precision high.\n",
    "\n",
    "6. **Identity Hate (Brown Curve)**:\n",
    "   - The `identity_hate` class has a steep drop, indicating difficulty in maintaining precision as recall increases. This suggests that the model struggles with this class, especially when trying to capture a larger portion of examples (high recall). \n",
    "\n",
    "Observations:\n",
    "   - For most classes like `toxic`, `obscene`, and `insult`, the model performs quite well. However, for `severe_toxic`, `threat`, and `identity_hate`, the precision and recall trade-off is worse, showing that the model struggles with these minority or harder-to-classify classes.\n",
    "   - These results suggest that the model still needs improvements for underrepresented classes like `severe_toxic` and `identity_hate`."
   ]
  },
  {
   "cell_type": "markdown",
   "metadata": {},
   "source": [
    "## 2. ROC Curves:\n",
    "\n",
    "ROC curves show the trade-offs between sensitivity (recall) and specificity for each class."
   ]
  },
  {
   "cell_type": "code",
   "execution_count": 76,
   "metadata": {},
   "outputs": [
    {
     "data": {
      "image/png": "[encoded data removed]",
      "text/plain": [
       "<Figure size 1500x1000 with 1 Axes>"
      ]
     },
     "metadata": {},
     "output_type": "display_data"
    }
   ],
   "source": [
    "plot_roc_curves(model, val_loader, class_names, threshold=0.5)"
   ]
  },
  {
   "cell_type": "markdown",
   "metadata": {},
   "source": [
    "Analysis:\n",
    "\n",
    "   - The ROC curves show perfect AUC values for all classes, which is surprising and potentially indicative of overfitting or overly optimistic results on the validation data.\n",
    "   - It's essential to ensure that the validation set is representative of the test distribution to avoid overly optimistic AUC scores."
   ]
  }
 ],
 "metadata": {
  "kernelspec": {
   "display_name": "base",
   "language": "python",
   "name": "python3"
  },
  "language_info": {
   "codemirror_mode": {
    "name": "ipython",
    "version": 3
   },
   "file_extension": ".py",
   "mimetype": "text/x-python",
   "name": "python",
   "nbconvert_exporter": "python",
   "pygments_lexer": "ipython3",
   "version": "3.11.9"
  }
 },
 "nbformat": 4,
 "nbformat_minor": 2
}
